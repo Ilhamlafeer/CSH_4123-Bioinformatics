{
 "cells": [
  {
   "cell_type": "code",
   "execution_count": 2,
   "id": "f808e959",
   "metadata": {},
   "outputs": [
    {
     "name": "stdout",
     "output_type": "stream",
     "text": [
      "Enter the row count:n 7\n",
      "      *\n",
      "     ***\n",
      "    *****\n",
      "   *******\n",
      "  *********\n",
      " ***********\n",
      "*************\n"
     ]
    }
   ],
   "source": [
    "#print the pattern\n",
    "\n",
    "row=int(input(\"Enter the row count:n \"))\n",
    "for i in range(1,row+1):\n",
    "    print(' ' * (row-i)+ '*' * (2* i - 1))"
   ]
  },
  {
   "cell_type": "code",
   "execution_count": 7,
   "id": "32b339a4",
   "metadata": {},
   "outputs": [
    {
     "name": "stdout",
     "output_type": "stream",
     "text": [
      "1\t 2\t 3\t 4\t 5\t 6\t 7\t 8\t 9\t 10\t \n",
      "2\t 4\t 6\t 8\t 10\t 12\t 14\t 16\t 18\t 20\t \n",
      "3\t 6\t 9\t 12\t 15\t 18\t 21\t 24\t 27\t 30\t \n",
      "4\t 8\t 12\t 16\t 20\t 24\t 28\t 32\t 36\t 40\t \n",
      "5\t 10\t 15\t 20\t 25\t 30\t 35\t 40\t 45\t 50\t \n",
      "6\t 12\t 18\t 24\t 30\t 36\t 42\t 48\t 54\t 60\t \n",
      "7\t 14\t 21\t 28\t 35\t 42\t 49\t 56\t 63\t 70\t \n",
      "8\t 16\t 24\t 32\t 40\t 48\t 56\t 64\t 72\t 80\t \n",
      "9\t 18\t 27\t 36\t 45\t 54\t 63\t 72\t 81\t 90\t \n",
      "10\t 20\t 30\t 40\t 50\t 60\t 70\t 80\t 90\t 100\t \n"
     ]
    }
   ],
   "source": [
    "# print the multiplication table\n",
    "\n",
    "value=10\n",
    "for i in range(1,value+1):\n",
    "    for j in range(1,value+1):\n",
    "        print(i*j,end= \"\\t \")\n",
    "    print( )"
   ]
  },
  {
   "cell_type": "code",
   "execution_count": 11,
   "id": "494c065e",
   "metadata": {},
   "outputs": [
    {
     "name": "stdout",
     "output_type": "stream",
     "text": [
      "count is:  15\n"
     ]
    }
   ],
   "source": [
    "#count the number of A,T,G,C nucleotides in this DNA=\"ATGCGATACGCTTGA\"\n",
    "\n",
    "DNA=\"ATGCGATACGCTTGA\"\n",
    "count = 0\n",
    "nucleo=\"ATGC\"\n",
    "\n",
    "for x in DNA:\n",
    "    for y in nucleo:\n",
    "        if x==y:\n",
    "            count +=1\n",
    "    \n",
    "\n",
    "print(\"count is: \",count)"
   ]
  },
  {
   "cell_type": "code",
   "execution_count": 13,
   "id": "8bae8484",
   "metadata": {},
   "outputs": [
    {
     "name": "stdout",
     "output_type": "stream",
     "text": [
      "The count of A is:  4\n",
      "The count of T is:  4\n",
      "The count of G is:  4\n",
      "The count of C is:  3\n"
     ]
    }
   ],
   "source": [
    "countA=0\n",
    "countT=0\n",
    "countG=0\n",
    "countC=0\n",
    "\n",
    "for x in DNA:\n",
    "    for y in nucleo:\n",
    "        if x==y:\n",
    "            if x=='A':\n",
    "                countA +=1\n",
    "            elif x=='T':\n",
    "                countT +=1\n",
    "            elif x=='G':\n",
    "                countG +=1\n",
    "            elif x=='C':\n",
    "                countC +=1\n",
    "    \n",
    "\n",
    "print(\"The count of A is: \",countA)\n",
    "print(\"The count of T is: \",countT)\n",
    "print(\"The count of G is: \",countG)\n",
    "print(\"The count of C is: \",countC)"
   ]
  },
  {
   "cell_type": "code",
   "execution_count": null,
   "id": "ce7df6f0",
   "metadata": {},
   "outputs": [],
   "source": []
  }
 ],
 "metadata": {
  "kernelspec": {
   "display_name": "Python 3 (ipykernel)",
   "language": "python",
   "name": "python3"
  },
  "language_info": {
   "codemirror_mode": {
    "name": "ipython",
    "version": 3
   },
   "file_extension": ".py",
   "mimetype": "text/x-python",
   "name": "python",
   "nbconvert_exporter": "python",
   "pygments_lexer": "ipython3",
   "version": "3.9.13"
  }
 },
 "nbformat": 4,
 "nbformat_minor": 5
}
