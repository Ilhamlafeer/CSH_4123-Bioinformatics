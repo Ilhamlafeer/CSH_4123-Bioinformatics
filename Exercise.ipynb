{
 "cells": [
  {
   "cell_type": "code",
   "execution_count": 1,
   "id": "fbb92964",
   "metadata": {},
   "outputs": [],
   "source": [
    "#create an evenly spaced array of numbers based on given start and stop values.\n",
    "#create an array of zeros that be filled with data later.\n",
    "#create an array of ones.\n",
    "#craete an array of rando, floats between zero and one.\n",
    "#Create 1D array and insert the values 1,2,3,4,5 and access the following elements:\n",
    "        #1st element\n",
    "        #2nd element\n",
    "        #range of elements from 1st to 3rd\n",
    "        #range of elements from 2nd\n",
    "        #range of elements from index=-2\n",
    "        \n",
    "#create 2D array and try to acces following elements:\n",
    "        #1st row and 2nd column elemnt\n",
    "        #2nd row elements\n",
    "        #3rd column elements\n",
    "        #range of elements in 1st and 2nd row\n",
    "        #range of elements in 1st and 2nd column\n",
    "        \n",
    "#Create a 1D array make it within order by axis wise.\n",
    "#Read 1D array and insert the values 1,9,2,5,3 and check whether the elements in array are greater than 5. and print those \n",
    "#elements as separate list.(use Boolean masking)"
   ]
  },
  {
   "cell_type": "code",
   "execution_count": 2,
   "id": "18eafd57",
   "metadata": {},
   "outputs": [],
   "source": [
    "import numpy as np"
   ]
  },
  {
   "cell_type": "code",
   "execution_count": 14,
   "id": "bd645d54",
   "metadata": {},
   "outputs": [
    {
     "data": {
      "text/plain": [
       "array([1. , 2.5, 4. , 5.5, 7. ])"
      ]
     },
     "execution_count": 14,
     "metadata": {},
     "output_type": "execute_result"
    }
   ],
   "source": [
    "arr1=np.linspace(1,7,5)\n",
    "arr1"
   ]
  },
  {
   "cell_type": "code",
   "execution_count": 15,
   "id": "24c93374",
   "metadata": {},
   "outputs": [
    {
     "data": {
      "text/plain": [
       "array([0., 0., 0., 0., 0.])"
      ]
     },
     "execution_count": 15,
     "metadata": {},
     "output_type": "execute_result"
    }
   ],
   "source": [
    "arr2=np.zeros(5)\n",
    "arr2"
   ]
  },
  {
   "cell_type": "code",
   "execution_count": 16,
   "id": "cc0e2f69",
   "metadata": {},
   "outputs": [
    {
     "data": {
      "text/plain": [
       "array([1., 1., 1., 1., 1.])"
      ]
     },
     "execution_count": 16,
     "metadata": {},
     "output_type": "execute_result"
    }
   ],
   "source": [
    "arr3=np.ones(5)\n",
    "arr3"
   ]
  },
  {
   "cell_type": "code",
   "execution_count": 17,
   "id": "19a21f39",
   "metadata": {},
   "outputs": [
    {
     "data": {
      "text/plain": [
       "array([[0.40081536, 0.07461436, 0.06446567, 0.79864099],\n",
       "       [0.67237657, 0.00307863, 0.85339561, 0.50219036],\n",
       "       [0.36826762, 0.64910687, 0.96694172, 0.36526274],\n",
       "       [0.43364457, 0.55061984, 0.65045184, 0.2452065 ]])"
      ]
     },
     "execution_count": 17,
     "metadata": {},
     "output_type": "execute_result"
    }
   ],
   "source": [
    "arr4=np.random.rand(4,4)\n",
    "arr4"
   ]
  },
  {
   "cell_type": "code",
   "execution_count": 20,
   "id": "868145dd",
   "metadata": {},
   "outputs": [
    {
     "name": "stdout",
     "output_type": "stream",
     "text": [
      "First element:  1\n"
     ]
    }
   ],
   "source": [
    "arr5=[1,2,3,4,5]\n",
    "print('First element: ',arr5[0])"
   ]
  },
  {
   "cell_type": "code",
   "execution_count": 21,
   "id": "3bc4e361",
   "metadata": {},
   "outputs": [
    {
     "name": "stdout",
     "output_type": "stream",
     "text": [
      "Second element:  2\n"
     ]
    }
   ],
   "source": [
    "print('Second element: ',arr5[1])"
   ]
  },
  {
   "cell_type": "code",
   "execution_count": 27,
   "id": "d73b9661",
   "metadata": {},
   "outputs": [
    {
     "name": "stdout",
     "output_type": "stream",
     "text": [
      "Range of element from 1st to 3rd:  [1, 2]\n"
     ]
    }
   ],
   "source": [
    "s=arr5[0]\n",
    "e=arr5[2]\n",
    "print('Range of element from 1st to 3rd: ',arr5[0:2])"
   ]
  },
  {
   "cell_type": "code",
   "execution_count": 32,
   "id": "3b469919",
   "metadata": {},
   "outputs": [
    {
     "name": "stdout",
     "output_type": "stream",
     "text": [
      "Range of element from 1st to 3rd:  [2, 3, 4, 5]\n"
     ]
    }
   ],
   "source": [
    "e=arr5[1]\n",
    "print('Range of element from 1st to 3rd: ',arr5[1:])"
   ]
  },
  {
   "cell_type": "code",
   "execution_count": 31,
   "id": "14fbcaf6",
   "metadata": {},
   "outputs": [
    {
     "name": "stdout",
     "output_type": "stream",
     "text": [
      "Range of element from 1st to 3rd:  4\n"
     ]
    }
   ],
   "source": [
    "print('Range of element from 1st to 3rd: ',arr5[-2])"
   ]
  },
  {
   "cell_type": "code",
   "execution_count": 39,
   "id": "13aeea43",
   "metadata": {},
   "outputs": [
    {
     "data": {
      "text/plain": [
       "array([[2, 3, 4],\n",
       "       [5, 1, 8]])"
      ]
     },
     "execution_count": 39,
     "metadata": {},
     "output_type": "execute_result"
    }
   ],
   "source": [
    "a1=[2,3,4]\n",
    "a2=[5,1,8]\n",
    "arr_2D=np.array([a1,a2])\n",
    "arr_2D\n"
   ]
  },
  {
   "cell_type": "code",
   "execution_count": 38,
   "id": "7c2c237e",
   "metadata": {},
   "outputs": [
    {
     "name": "stdout",
     "output_type": "stream",
     "text": [
      "1sr row 2nd element:  3\n"
     ]
    }
   ],
   "source": [
    "arr_2D\n",
    "element=arr_2D[0][1]\n",
    "print('1st row 2nd element: ',element)"
   ]
  },
  {
   "cell_type": "code",
   "execution_count": 40,
   "id": "fc3d5b8d",
   "metadata": {},
   "outputs": [
    {
     "name": "stdout",
     "output_type": "stream",
     "text": [
      "1sr row 2nd element:  [5 1 8]\n"
     ]
    }
   ],
   "source": [
    "arr_2D\n",
    "element=arr_2D[1]\n",
    "print('2nd row elements: ',element)"
   ]
  },
  {
   "cell_type": "code",
   "execution_count": 44,
   "id": "9a3fc24a",
   "metadata": {},
   "outputs": [
    {
     "name": "stdout",
     "output_type": "stream",
     "text": [
      "3rd column elements:  [4 8]\n"
     ]
    }
   ],
   "source": [
    "arr_2D\n",
    "element=[row[2] for row in arr_2D]\n",
    "print('3rd column elements: ',arr_2D[:,2])\n",
    "#print('3rd column elements: ',element)"
   ]
  },
  {
   "cell_type": "code",
   "execution_count": 45,
   "id": "324db1e3",
   "metadata": {},
   "outputs": [
    {
     "ename": "TypeError",
     "evalue": "only integer scalar arrays can be converted to a scalar index",
     "output_type": "error",
     "traceback": [
      "\u001b[1;31m---------------------------------------------------------------------------\u001b[0m",
      "\u001b[1;31mTypeError\u001b[0m                                 Traceback (most recent call last)",
      "\u001b[1;32m~\\AppData\\Local\\Temp\\ipykernel_5208\\2832152673.py\u001b[0m in \u001b[0;36m<module>\u001b[1;34m\u001b[0m\n\u001b[0;32m      2\u001b[0m \u001b[0me\u001b[0m\u001b[1;33m=\u001b[0m\u001b[0marr_2D\u001b[0m\u001b[1;33m[\u001b[0m\u001b[1;36m0\u001b[0m\u001b[1;33m,\u001b[0m\u001b[1;33m:\u001b[0m\u001b[1;33m]\u001b[0m\u001b[1;33m\u001b[0m\u001b[1;33m\u001b[0m\u001b[0m\n\u001b[0;32m      3\u001b[0m \u001b[0ms\u001b[0m\u001b[1;33m=\u001b[0m\u001b[0marr_2D\u001b[0m\u001b[1;33m[\u001b[0m\u001b[1;36m1\u001b[0m\u001b[1;33m,\u001b[0m\u001b[1;33m:\u001b[0m\u001b[1;33m]\u001b[0m\u001b[1;33m\u001b[0m\u001b[1;33m\u001b[0m\u001b[0m\n\u001b[1;32m----> 4\u001b[1;33m \u001b[0mprint\u001b[0m\u001b[1;33m(\u001b[0m\u001b[1;34m\"Range of elements in 1st and 2nd row: \"\u001b[0m\u001b[1;33m,\u001b[0m\u001b[0marr_2D\u001b[0m\u001b[1;33m[\u001b[0m\u001b[0me\u001b[0m\u001b[1;33m:\u001b[0m\u001b[0ms\u001b[0m\u001b[1;33m]\u001b[0m\u001b[1;33m)\u001b[0m\u001b[1;33m\u001b[0m\u001b[1;33m\u001b[0m\u001b[0m\n\u001b[0m",
      "\u001b[1;31mTypeError\u001b[0m: only integer scalar arrays can be converted to a scalar index"
     ]
    }
   ],
   "source": [
    "arr_2D\n",
    "e=arr_2D[0,:]\n",
    "s=arr_2D[1,:]\n",
    "print(\"Range of elements in 1st and 2nd row: \",arr_2D[e:s])"
   ]
  },
  {
   "cell_type": "code",
   "execution_count": null,
   "id": "675588f0",
   "metadata": {},
   "outputs": [],
   "source": []
  }
 ],
 "metadata": {
  "kernelspec": {
   "display_name": "Python 3 (ipykernel)",
   "language": "python",
   "name": "python3"
  },
  "language_info": {
   "codemirror_mode": {
    "name": "ipython",
    "version": 3
   },
   "file_extension": ".py",
   "mimetype": "text/x-python",
   "name": "python",
   "nbconvert_exporter": "python",
   "pygments_lexer": "ipython3",
   "version": "3.9.13"
  }
 },
 "nbformat": 4,
 "nbformat_minor": 5
}
