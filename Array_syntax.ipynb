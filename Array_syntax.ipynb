{
 "cells": [
  {
   "cell_type": "code",
   "execution_count": 1,
   "id": "10aa1ebb",
   "metadata": {},
   "outputs": [],
   "source": [
    "#list=[\"apple\",\"orange\",\"pineapple\"]\n",
    "#thislist= list((\"apple\",\"orange\",\"pineapple\"))"
   ]
  },
  {
   "cell_type": "code",
   "execution_count": 2,
   "id": "5b39b333",
   "metadata": {},
   "outputs": [],
   "source": [
    "list=[\"apple\",\"orange\",\"pineapple\"]"
   ]
  },
  {
   "cell_type": "code",
   "execution_count": 3,
   "id": "5c15cee3",
   "metadata": {},
   "outputs": [
    {
     "name": "stdout",
     "output_type": "stream",
     "text": [
      "['apple', 'orange', 'pineapple']\n"
     ]
    }
   ],
   "source": [
    "print(list)"
   ]
  },
  {
   "cell_type": "code",
   "execution_count": 9,
   "id": "5af63343",
   "metadata": {},
   "outputs": [
    {
     "name": "stdout",
     "output_type": "stream",
     "text": [
      "[1, 3.3, 1, 5.6667, 'apple']\n"
     ]
    },
    {
     "data": {
      "text/plain": [
       "5"
      ]
     },
     "execution_count": 9,
     "metadata": {},
     "output_type": "execute_result"
    }
   ],
   "source": [
    "list1=[1,3.3,1,5.6667,\"apple\"]\n",
    "print(list1)\n",
    "len(list1)"
   ]
  },
  {
   "cell_type": "code",
   "execution_count": 6,
   "id": "8f141f60",
   "metadata": {},
   "outputs": [
    {
     "name": "stdout",
     "output_type": "stream",
     "text": [
      "3\n"
     ]
    }
   ],
   "source": [
    "print(len(list))"
   ]
  },
  {
   "cell_type": "code",
   "execution_count": 8,
   "id": "27627752",
   "metadata": {},
   "outputs": [
    {
     "name": "stdout",
     "output_type": "stream",
     "text": [
      "<class 'list'>\n"
     ]
    }
   ],
   "source": [
    "print(type(list))"
   ]
  },
  {
   "cell_type": "code",
   "execution_count": 34,
   "id": "ea5304fe",
   "metadata": {},
   "outputs": [
    {
     "name": "stdout",
     "output_type": "stream",
     "text": [
      "[1, 2, 3, 4, 5, 6]\n"
     ]
    }
   ],
   "source": [
    "array=[1,2,3,4,5,6]\n",
    "print(array)"
   ]
  },
  {
   "cell_type": "code",
   "execution_count": 24,
   "id": "dc974bb6",
   "metadata": {},
   "outputs": [
    {
     "name": "stdout",
     "output_type": "stream",
     "text": [
      "3\n"
     ]
    }
   ],
   "source": [
    "print(array[2])"
   ]
  },
  {
   "cell_type": "code",
   "execution_count": 12,
   "id": "9b927d19",
   "metadata": {},
   "outputs": [
    {
     "name": "stdout",
     "output_type": "stream",
     "text": [
      "6\n"
     ]
    }
   ],
   "source": [
    "print(len(array))"
   ]
  },
  {
   "cell_type": "code",
   "execution_count": 36,
   "id": "96e362a6",
   "metadata": {},
   "outputs": [
    {
     "name": "stdout",
     "output_type": "stream",
     "text": [
      "[1, 2, 3, 4, 5, 6, 4]\n"
     ]
    }
   ],
   "source": [
    "array.append(4)\n",
    "print(array)"
   ]
  },
  {
   "cell_type": "code",
   "execution_count": 37,
   "id": "73c0d392",
   "metadata": {},
   "outputs": [
    {
     "name": "stdout",
     "output_type": "stream",
     "text": [
      "4\n"
     ]
    }
   ],
   "source": [
    "print(array.pop())"
   ]
  },
  {
   "cell_type": "code",
   "execution_count": 38,
   "id": "6d2b0161",
   "metadata": {},
   "outputs": [
    {
     "name": "stdout",
     "output_type": "stream",
     "text": [
      "[]\n"
     ]
    }
   ],
   "source": [
    "array.clear()\n",
    "print(array)"
   ]
  },
  {
   "cell_type": "code",
   "execution_count": 43,
   "id": "a15a56df",
   "metadata": {},
   "outputs": [
    {
     "data": {
      "text/plain": [
       "[3, 5, 6, 8, 8, 8, 9]"
      ]
     },
     "execution_count": 43,
     "metadata": {},
     "output_type": "execute_result"
    }
   ],
   "source": [
    "arr=[3,5,6,8,8,8,9]\n",
    "arr.copy()"
   ]
  },
  {
   "cell_type": "code",
   "execution_count": 44,
   "id": "9aa2b501",
   "metadata": {},
   "outputs": [
    {
     "data": {
      "text/plain": [
       "3"
      ]
     },
     "execution_count": 44,
     "metadata": {},
     "output_type": "execute_result"
    }
   ],
   "source": [
    "arr.count(8)"
   ]
  },
  {
   "cell_type": "code",
   "execution_count": 45,
   "id": "b36beeaa",
   "metadata": {},
   "outputs": [
    {
     "name": "stdout",
     "output_type": "stream",
     "text": [
      "[3, 5, 6, 8, 8, 8, 9, 3, 2, 1]\n"
     ]
    }
   ],
   "source": [
    "arr.extend([3,2,1])\n",
    "print(arr)"
   ]
  },
  {
   "cell_type": "code",
   "execution_count": 49,
   "id": "5b2df224",
   "metadata": {},
   "outputs": [
    {
     "data": {
      "text/plain": [
       "3"
      ]
     },
     "execution_count": 49,
     "metadata": {},
     "output_type": "execute_result"
    }
   ],
   "source": [
    "arr.index(3)"
   ]
  },
  {
   "cell_type": "code",
   "execution_count": 50,
   "id": "3d1267b7",
   "metadata": {},
   "outputs": [
    {
     "data": {
      "text/plain": [
       "3"
      ]
     },
     "execution_count": 50,
     "metadata": {},
     "output_type": "execute_result"
    }
   ],
   "source": [
    "arr.index(8)"
   ]
  },
  {
   "cell_type": "code",
   "execution_count": 51,
   "id": "51d6c610",
   "metadata": {},
   "outputs": [
    {
     "name": "stdout",
     "output_type": "stream",
     "text": [
      "[3, 5, 4, 6, 8, 8, 8, 9, 3, 2, 1]\n"
     ]
    }
   ],
   "source": [
    "arr.insert(2,4)\n",
    "print(arr)"
   ]
  },
  {
   "cell_type": "code",
   "execution_count": 56,
   "id": "700e6c67",
   "metadata": {},
   "outputs": [
    {
     "name": "stdout",
     "output_type": "stream",
     "text": [
      "[1, 2, 3, 3, 4, 5, 6, 8, 8, 9]\n"
     ]
    }
   ],
   "source": [
    "arr.sort()\n",
    "print(arr)"
   ]
  },
  {
   "cell_type": "raw",
   "id": "12ef9615",
   "metadata": {},
   "source": []
  },
  {
   "cell_type": "code",
   "execution_count": 55,
   "id": "8f195871",
   "metadata": {},
   "outputs": [
    {
     "name": "stdout",
     "output_type": "stream",
     "text": [
      "[1, 2, 3, 3, 4, 5, 6, 8, 8, 9]\n"
     ]
    }
   ],
   "source": [
    "arr.remove(8)\n",
    "print(arr)"
   ]
  },
  {
   "cell_type": "code",
   "execution_count": null,
   "id": "d2508a0a",
   "metadata": {},
   "outputs": [],
   "source": []
  }
 ],
 "metadata": {
  "kernelspec": {
   "display_name": "Python 3 (ipykernel)",
   "language": "python",
   "name": "python3"
  },
  "language_info": {
   "codemirror_mode": {
    "name": "ipython",
    "version": 3
   },
   "file_extension": ".py",
   "mimetype": "text/x-python",
   "name": "python",
   "nbconvert_exporter": "python",
   "pygments_lexer": "ipython3",
   "version": "3.9.13"
  }
 },
 "nbformat": 4,
 "nbformat_minor": 5
}
