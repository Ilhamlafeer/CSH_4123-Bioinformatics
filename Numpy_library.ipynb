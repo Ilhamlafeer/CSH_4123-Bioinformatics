{
 "cells": [
  {
   "cell_type": "code",
   "execution_count": 7,
   "id": "378fff51",
   "metadata": {},
   "outputs": [
    {
     "data": {
      "text/plain": [
       "array([1, 2, 3, 4, 5, 6, 7, 8, 9])"
      ]
     },
     "execution_count": 7,
     "metadata": {},
     "output_type": "execute_result"
    }
   ],
   "source": [
    "import numpy as np\n",
    "arr=[1,2,3,4,5,6,7,8,9]\n",
    "\n",
    "np_array=np.array(arr)\n",
    "np_array"
   ]
  },
  {
   "cell_type": "code",
   "execution_count": 9,
   "id": "11b0407e",
   "metadata": {},
   "outputs": [
    {
     "data": {
      "text/plain": [
       "[[0, 1, 2], [0, 1, 2], [0, 1, 2]]"
      ]
     },
     "execution_count": 9,
     "metadata": {},
     "output_type": "execute_result"
    }
   ],
   "source": [
    "#2D array\n",
    "\n",
    "import numpy as np\n",
    "rows=3\n",
    "col=3\n",
    "\n",
    "array_of=[[j for j in range(col)] for i in range(rows)]\n",
    "array_of"
   ]
  },
  {
   "cell_type": "code",
   "execution_count": 11,
   "id": "80bb7e7e",
   "metadata": {},
   "outputs": [
    {
     "data": {
      "text/plain": [
       "[[[0, 1, 2], [0, 1, 2], [0, 1, 2]],\n",
       " [[0, 1, 2], [0, 1, 2], [0, 1, 2]],\n",
       " [[0, 1, 2], [0, 1, 2], [0, 1, 2]]]"
      ]
     },
     "execution_count": 11,
     "metadata": {},
     "output_type": "execute_result"
    }
   ],
   "source": [
    "# 3D array\n",
    "\n",
    "import numpy as np\n",
    "x=3\n",
    "y=3\n",
    "z=3\n",
    "\n",
    "array_of=[[[j for j in range(x)] for i in range(y)]for k in range(z)]\n",
    "array_of"
   ]
  },
  {
   "cell_type": "code",
   "execution_count": 12,
   "id": "0e9fc93c",
   "metadata": {},
   "outputs": [
    {
     "data": {
      "text/plain": [
       "array([[1, 2, 3, 4],\n",
       "       [5, 6, 7, 8],\n",
       "       [9, 4, 6, 1]])"
      ]
     },
     "execution_count": 12,
     "metadata": {},
     "output_type": "execute_result"
    }
   ],
   "source": [
    "import numpy as np\n",
    "\n",
    "a1=[1,2,3,4]\n",
    "a2=[5,6,7,8]\n",
    "a3=[9,4,6,1]\n",
    "\n",
    "array_3d=np.array([a1,a2,a3])\n",
    "array_3d"
   ]
  },
  {
   "cell_type": "code",
   "execution_count": 13,
   "id": "b9689775",
   "metadata": {},
   "outputs": [
    {
     "data": {
      "text/plain": [
       "[[[[0, 1, 2], [0, 1, 2], [0, 1, 2]],\n",
       "  [[0, 1, 2], [0, 1, 2], [0, 1, 2]],\n",
       "  [[0, 1, 2], [0, 1, 2], [0, 1, 2]]],\n",
       " [[[0, 1, 2], [0, 1, 2], [0, 1, 2]],\n",
       "  [[0, 1, 2], [0, 1, 2], [0, 1, 2]],\n",
       "  [[0, 1, 2], [0, 1, 2], [0, 1, 2]]],\n",
       " [[[0, 1, 2], [0, 1, 2], [0, 1, 2]],\n",
       "  [[0, 1, 2], [0, 1, 2], [0, 1, 2]],\n",
       "  [[0, 1, 2], [0, 1, 2], [0, 1, 2]]]]"
      ]
     },
     "execution_count": 13,
     "metadata": {},
     "output_type": "execute_result"
    }
   ],
   "source": [
    "# 4D array\n",
    "\n",
    "import numpy as np\n",
    "x=3\n",
    "y=3\n",
    "z=3\n",
    "q=3\n",
    "\n",
    "array_of=[[[[j for j in range(x)] for i in range(y)]for k in range(z)]for l in range(q)]\n",
    "array_of"
   ]
  },
  {
   "cell_type": "code",
   "execution_count": 14,
   "id": "9e238d88",
   "metadata": {},
   "outputs": [
    {
     "data": {
      "text/plain": [
       "array([[1, 2, 3],\n",
       "       [5, 6, 7],\n",
       "       [9, 4, 6],\n",
       "       [8, 7, 2]])"
      ]
     },
     "execution_count": 14,
     "metadata": {},
     "output_type": "execute_result"
    }
   ],
   "source": [
    "import numpy as np\n",
    "\n",
    "a1=[1,2,3]\n",
    "a2=[5,6,7]\n",
    "a3=[9,4,6]\n",
    "a4=[8,7,2] \n",
    "array_3d=np.array([a1,a2,a3,a4])\n",
    "array_3d"
   ]
  },
  {
   "cell_type": "code",
   "execution_count": null,
   "id": "1e92c2da",
   "metadata": {},
   "outputs": [],
   "source": []
  }
 ],
 "metadata": {
  "kernelspec": {
   "display_name": "Python 3 (ipykernel)",
   "language": "python",
   "name": "python3"
  },
  "language_info": {
   "codemirror_mode": {
    "name": "ipython",
    "version": 3
   },
   "file_extension": ".py",
   "mimetype": "text/x-python",
   "name": "python",
   "nbconvert_exporter": "python",
   "pygments_lexer": "ipython3",
   "version": "3.9.13"
  }
 },
 "nbformat": 4,
 "nbformat_minor": 5
}
